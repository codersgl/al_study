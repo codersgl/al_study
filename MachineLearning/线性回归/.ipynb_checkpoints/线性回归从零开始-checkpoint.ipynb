{
 "cells": [
  {
   "cell_type": "markdown",
   "id": "8d646ce8-e809-40bb-abf6-36e2d5f226b7",
   "metadata": {},
   "source": []
  },
  {
   "cell_type": "code",
   "execution_count": null,
   "id": "f9fe03aa-b01b-4a80-ac93-44b95df86637",
   "metadata": {},
   "outputs": [],
   "source": []
  }
 ],
 "metadata": {
  "kernelspec": {
   "display_name": "Python 3 (ipykernel)",
   "language": "python",
   "name": "python3"
  },
  "language_info": {
   "codemirror_mode": {
    "name": "ipython",
    "version": 3
   },
   "file_extension": ".py",
   "mimetype": "text/x-python",
   "name": "python",
   "nbconvert_exporter": "python",
   "pygments_lexer": "ipython3",
   "version": "3.9.6"
  }
 },
 "nbformat": 4,
 "nbformat_minor": 5
}
