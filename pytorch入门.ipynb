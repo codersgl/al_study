{
 "cells": [
  {
   "cell_type": "markdown",
   "id": "85efb118-7f68-457e-aae1-f58ceef72167",
   "metadata": {},
   "source": [
    "# 入门"
   ]
  },
  {
   "cell_type": "code",
   "execution_count": 3,
   "id": "cbe05355-8f13-49d3-bfdb-e0c731a2d780",
   "metadata": {},
   "outputs": [],
   "source": [
    "import torch"
   ]
  },
  {
   "cell_type": "markdown",
   "id": "0530b072-2c73-4804-b3a3-beda040d2337",
   "metadata": {},
   "source": [
    "* 张量表示一个由数值组成的数组，这个数组可能有多个维度（轴）。具有一个轴的张量对应数学中的向量(vector)，具有两个轴的张量对应数学中的矩阵(matrix)，具有两个轴以上的张量没有特定的数学名称。\n",
    "\n",
    "* 我们可以用arange创建一个行向量x,这个行向量包括以0开始的前12个整数，它们默认被创建为整数，也可以指定其类型为浮点型。张量中的每一个元素称为张量的元素。\n",
    "除非额外指定，否则新的张量将存储在内存中，并采用基于CPU的计算"
   ]
  },
  {
   "cell_type": "code",
   "execution_count": 4,
   "id": "63c907df-a939-413b-98bd-c0a3a2a3e096",
   "metadata": {},
   "outputs": [
    {
     "data": {
      "text/plain": [
       "tensor([ 0,  1,  2,  3,  4,  5,  6,  7,  8,  9, 10, 11])"
      ]
     },
     "execution_count": 4,
     "metadata": {},
     "output_type": "execute_result"
    }
   ],
   "source": [
    "\n",
    "x = torch.arange(12)\n",
    "x"
   ]
  },
  {
   "cell_type": "markdown",
   "id": "505deba1-0e02-4b50-a8d8-9a2d70a2afde",
   "metadata": {},
   "source": [
    "* 可以通过张量的shape属性来访问张量（沿每个轴的长度）的形状（shape）"
   ]
  },
  {
   "cell_type": "code",
   "execution_count": 5,
   "id": "48b41840-2c91-4ec0-95cd-0ca8c79863e8",
   "metadata": {},
   "outputs": [
    {
     "data": {
      "text/plain": [
       "torch.Size([12])"
      ]
     },
     "execution_count": 5,
     "metadata": {},
     "output_type": "execute_result"
    }
   ],
   "source": [
    "\n",
    "x.shape"
   ]
  },
  {
   "cell_type": "markdown",
   "id": "343db320-b9f0-459a-a64e-6073ca06ad36",
   "metadata": {},
   "source": [
    "* 如果只想知道张量中的总元素个数，即形状的所有元素的乘积， 可以检查他的大小（size），因为这里在处理的是一个向量，所以他的shape与他的size相同。"
   ]
  },
  {
   "cell_type": "code",
   "execution_count": 6,
   "id": "e920322d-7ddb-477c-b815-3baebd979249",
   "metadata": {},
   "outputs": [
    {
     "data": {
      "text/plain": [
       "12"
      ]
     },
     "execution_count": 6,
     "metadata": {},
     "output_type": "execute_result"
    }
   ],
   "source": [
    "\n",
    "x.numel()"
   ]
  },
  {
   "cell_type": "markdown",
   "id": "bfa3a74b-a153-4f5f-b36e-5a56cc703132",
   "metadata": {},
   "source": [
    "* 想要改变一个张量的形状而不改变元素数量和元素值，可以调用reshape函数。\n",
    "* 例如，可以把张量x从形状为（12，）的行向量转化为形状为（3，4）的矩阵。\n",
    "* 这个新张量包含与转换前相同的值，注意，改变张量的形状，不会改变张量的大小"
   ]
  },
  {
   "cell_type": "code",
   "execution_count": 7,
   "id": "f698985d-39c2-4fe9-bd14-ec23b6850904",
   "metadata": {},
   "outputs": [
    {
     "data": {
      "text/plain": [
       "tensor([[ 0,  1,  2,  3],\n",
       "        [ 4,  5,  6,  7],\n",
       "        [ 8,  9, 10, 11]])"
      ]
     },
     "execution_count": 7,
     "metadata": {},
     "output_type": "execute_result"
    }
   ],
   "source": [
    "\n",
    "X = x.reshape(3,4)\n",
    "X"
   ]
  },
  {
   "cell_type": "markdown",
   "id": "3563692d-697f-4436-8cbb-1377ded6b10b",
   "metadata": {},
   "source": [
    "* 我们可以通过-1来自动计算出形状，如x.reshape(3,4)=x.reshape(-1,4)=x.reshape(3,-1)"
   ]
  },
  {
   "cell_type": "markdown",
   "id": "95d261a3-d4f8-4e42-9128-8cda2001ebd1",
   "metadata": {},
   "source": [
    "* 有时我们想使用全0，全1，其他常量或者从特定分布中随机采样的数字来初始化矩阵，我们可以创造一个形状为（2，3，4）的张量，其中所有元素都设为0"
   ]
  },
  {
   "cell_type": "code",
   "execution_count": 8,
   "id": "05cbe318-03b4-4b26-bc7e-84071787c5ab",
   "metadata": {},
   "outputs": [
    {
     "data": {
      "text/plain": [
       "tensor([[[0., 0., 0., 0.],\n",
       "         [0., 0., 0., 0.],\n",
       "         [0., 0., 0., 0.]],\n",
       "\n",
       "        [[0., 0., 0., 0.],\n",
       "         [0., 0., 0., 0.],\n",
       "         [0., 0., 0., 0.]]])"
      ]
     },
     "execution_count": 8,
     "metadata": {},
     "output_type": "execute_result"
    }
   ],
   "source": [
    "torch.zeros((2, 3, 4))"
   ]
  },
  {
   "cell_type": "markdown",
   "id": "13214784-7339-4f26-8710-b101929a475b",
   "metadata": {},
   "source": [
    "* 同样我们可以创造一个形状为（2，3，4）的张量，其中所有元素都设为1"
   ]
  },
  {
   "cell_type": "code",
   "execution_count": 9,
   "id": "a4117a64-c155-40a9-91b8-c0a8055ba408",
   "metadata": {},
   "outputs": [
    {
     "data": {
      "text/plain": [
       "tensor([[[1., 1., 1., 1.],\n",
       "         [1., 1., 1., 1.],\n",
       "         [1., 1., 1., 1.]],\n",
       "\n",
       "        [[1., 1., 1., 1.],\n",
       "         [1., 1., 1., 1.],\n",
       "         [1., 1., 1., 1.]]])"
      ]
     },
     "execution_count": 9,
     "metadata": {},
     "output_type": "execute_result"
    }
   ],
   "source": [
    "torch.ones(2, 3, 4)"
   ]
  },
  {
   "cell_type": "markdown",
   "id": "1a9fba1a-75ef-48aa-a8d5-acd32b1428df",
   "metadata": {},
   "source": [
    "* 有时我们想要通过从某个特定的概率分布中随机采样来得到张量中的每个元素的值。\n",
    "* 例如，当我们构造数组来作为神经网络中的参数时，我们通常会随机初始化参数的值。\n",
    "* 以下代码创造一个形状为（3，4）的张量，其中每一个元素都从均值为0，标准差为1的标准高斯分布（正态分布）中随机采样"
   ]
  },
  {
   "cell_type": "code",
   "execution_count": 10,
   "id": "c3a13d2a-4891-4430-b453-215b9e449721",
   "metadata": {},
   "outputs": [
    {
     "data": {
      "text/plain": [
       "tensor([[-1.8186,  0.0144,  0.2671, -0.0410],\n",
       "        [-0.0302, -1.2587,  1.1615,  0.2762],\n",
       "        [ 0.3862,  0.6133,  1.2579, -0.4379]])"
      ]
     },
     "execution_count": 10,
     "metadata": {},
     "output_type": "execute_result"
    }
   ],
   "source": [
    "torch.randn(3, 4)"
   ]
  },
  {
   "cell_type": "markdown",
   "id": "d633ac45-cb20-4fcc-81bb-f975c739d973",
   "metadata": {},
   "source": [
    "* 我们还可以通过提供包含数值的python列表（或嵌套列表），来为所需张量中的每一个元素赋予特定的值。在这里，外层的的列表对应于轴0，内层的列表对应与轴1."
   ]
  },
  {
   "cell_type": "code",
   "execution_count": 11,
   "id": "256ead36-f559-40f7-ade6-6b4d96dec330",
   "metadata": {},
   "outputs": [
    {
     "data": {
      "text/plain": [
       "tensor([[2, 1, 4, 3],\n",
       "        [1, 2, 3, 4],\n",
       "        [4, 3, 2, 1]])"
      ]
     },
     "execution_count": 11,
     "metadata": {},
     "output_type": "execute_result"
    }
   ],
   "source": [
    "torch.tensor([[2,1,4,3], [1,2,3,4],[4,3,2,1]])"
   ]
  },
  {
   "cell_type": "markdown",
   "id": "d2b90f28-5d81-4e52-9f8c-3a03e739e6c6",
   "metadata": {},
   "source": [
    "# 运算符"
   ]
  },
  {
   "cell_type": "code",
   "execution_count": 12,
   "id": "31d050cc-625c-461a-aa7d-00c635fb7c72",
   "metadata": {},
   "outputs": [
    {
     "data": {
      "text/plain": [
       "(tensor([ 3.,  4.,  6., 10.]),\n",
       " tensor([-1.,  0.,  2.,  6.]),\n",
       " tensor([ 2.,  4.,  8., 16.]),\n",
       " tensor([0.5000, 1.0000, 2.0000, 4.0000]),\n",
       " tensor([ 1.,  4., 16., 64.]))"
      ]
     },
     "execution_count": 12,
     "metadata": {},
     "output_type": "execute_result"
    }
   ],
   "source": [
    "x = torch.tensor([1.0, 2, 4, 8])\n",
    "y = torch.tensor([2,2,2,2])\n",
    "x + y, x - y, x * y, x / y, x ** y "
   ]
  },
  {
   "cell_type": "code",
   "execution_count": 13,
   "id": "367a4b1d-621f-4912-910b-78e2fb1586d5",
   "metadata": {},
   "outputs": [
    {
     "data": {
      "text/plain": [
       "tensor([2.7183e+00, 7.3891e+00, 5.4598e+01, 2.9810e+03])"
      ]
     },
     "execution_count": 13,
     "metadata": {},
     "output_type": "execute_result"
    }
   ],
   "source": [
    "torch.exp(x)"
   ]
  },
  {
   "cell_type": "markdown",
   "id": "5bb5787c-b7fe-4eef-9dbd-bd77f389ac44",
   "metadata": {},
   "source": [
    "* 我们也可以把多个张量连接起来"
   ]
  },
  {
   "cell_type": "code",
   "execution_count": 15,
   "id": "75fc5cc2-779b-4872-9030-a438fb6caa16",
   "metadata": {},
   "outputs": [
    {
     "data": {
      "text/plain": [
       "(tensor([[ 0.,  1.,  2.,  3.],\n",
       "         [ 4.,  5.,  6.,  7.],\n",
       "         [ 8.,  9., 10., 11.],\n",
       "         [ 2.,  1.,  4.,  3.],\n",
       "         [ 1.,  2.,  3.,  4.],\n",
       "         [ 4.,  3.,  2.,  1.]]),\n",
       " tensor([[ 0.,  1.,  2.,  3.,  2.,  1.,  4.,  3.],\n",
       "         [ 4.,  5.,  6.,  7.,  1.,  2.,  3.,  4.],\n",
       "         [ 8.,  9., 10., 11.,  4.,  3.,  2.,  1.]]))"
      ]
     },
     "execution_count": 15,
     "metadata": {},
     "output_type": "execute_result"
    }
   ],
   "source": [
    "X = torch.arange(12, dtype=torch.float32).reshape((3, 4))\n",
    "Y = torch.tensor([[2.0, 1, 4, 3], [1, 2, 3, 4], [4, 3, 2, 1]])\n",
    "torch.cat((X, Y), dim=0), torch.cat((X, Y), dim=1)"
   ]
  },
  {
   "cell_type": "markdown",
   "id": "b1b709cc-6f8e-4960-acbd-038f22de6d26",
   "metadata": {},
   "source": [
    "* 有时，我们想要通过逻辑运算符构建二元张量。以X==Y为例：对于每个位置，如果X和Y在该位置相等，则新张量中的相应项的值为True，这意味着逻辑语句X==Y在该位置处为True，否则为False。"
   ]
  },
  {
   "cell_type": "code",
   "execution_count": 16,
   "id": "ac8624d5-dcc6-4227-bf99-07cb53b107b7",
   "metadata": {
    "scrolled": true
   },
   "outputs": [
    {
     "data": {
      "text/plain": [
       "tensor([[False,  True, False,  True],\n",
       "        [False, False, False, False],\n",
       "        [False, False, False, False]])"
      ]
     },
     "execution_count": 16,
     "metadata": {},
     "output_type": "execute_result"
    }
   ],
   "source": [
    "X == Y"
   ]
  },
  {
   "cell_type": "markdown",
   "id": "cbbc88fb-0cec-4636-b3a2-40271a03efa3",
   "metadata": {},
   "source": [
    "* 对张量中的所有元素求和，会产生一个单元素的张量"
   ]
  },
  {
   "cell_type": "code",
   "execution_count": 17,
   "id": "7cac6797-dc35-41b0-afec-60f7b58382a5",
   "metadata": {},
   "outputs": [
    {
     "data": {
      "text/plain": [
       "tensor(66.)"
      ]
     },
     "execution_count": 17,
     "metadata": {},
     "output_type": "execute_result"
    }
   ],
   "source": [
    "X.sum()"
   ]
  }
 ],
 "metadata": {
  "kernelspec": {
   "display_name": "Python 3 (ipykernel)",
   "language": "python",
   "name": "python3"
  },
  "language_info": {
   "codemirror_mode": {
    "name": "ipython",
    "version": 3
   },
   "file_extension": ".py",
   "mimetype": "text/x-python",
   "name": "python",
   "nbconvert_exporter": "python",
   "pygments_lexer": "ipython3",
   "version": "3.9.6"
  }
 },
 "nbformat": 4,
 "nbformat_minor": 5
}
