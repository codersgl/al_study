{
 "cells": [
  {
   "cell_type": "code",
   "execution_count": 1,
   "id": "cbe05355-8f13-49d3-bfdb-e0c731a2d780",
   "metadata": {},
   "outputs": [],
   "source": [
    "import torch"
   ]
  },
  {
   "cell_type": "markdown",
   "id": "0530b072-2c73-4804-b3a3-beda040d2337",
   "metadata": {},
   "source": [
    "* 张量表示一个由数值组成的数组，这个数组可能有多个维度（轴）。具有一个轴的张量对应数学中的向量(vector)，具有两个轴的张量对应数学中的矩阵(matrix)，具有两个轴以上的张量没有特定的数学名称。\n",
    "\n",
    "* 我们可以用arange创建一个行向量x,这个行向量包括以0开始的前12个整数，它们默认被创建为整数，也可以指定其类型为浮点型。张量中的每一个元素称为张量的元素。\n",
    "除非额外指定，否则新的张量将存储在内存中，并采用基于CPU的计算"
   ]
  },
  {
   "cell_type": "code",
   "execution_count": 9,
   "id": "63c907df-a939-413b-98bd-c0a3a2a3e096",
   "metadata": {},
   "outputs": [
    {
     "data": {
      "text/plain": [
       "tensor([ 0,  1,  2,  3,  4,  5,  6,  7,  8,  9, 10, 11])"
      ]
     },
     "execution_count": 9,
     "metadata": {},
     "output_type": "execute_result"
    }
   ],
   "source": [
    "\n",
    "x = torch.arange(12)\n",
    "x"
   ]
  },
  {
   "cell_type": "markdown",
   "id": "505deba1-0e02-4b50-a8d8-9a2d70a2afde",
   "metadata": {},
   "source": [
    "* 可以通过张量的shape属性来访问张量（沿每个轴的长度）的形状（shape）"
   ]
  },
  {
   "cell_type": "code",
   "execution_count": 10,
   "id": "48b41840-2c91-4ec0-95cd-0ca8c79863e8",
   "metadata": {},
   "outputs": [
    {
     "data": {
      "text/plain": [
       "torch.Size([12])"
      ]
     },
     "execution_count": 10,
     "metadata": {},
     "output_type": "execute_result"
    }
   ],
   "source": [
    "\n",
    "x.shape"
   ]
  },
  {
   "cell_type": "markdown",
   "id": "343db320-b9f0-459a-a64e-6073ca06ad36",
   "metadata": {},
   "source": [
    "* 如果只想知道张量中的总元素个数，即形状的所有元素的乘积， 可以检查他的大小（size），因为这里在处理的是一个向量，所以他的shape与他的size相同。"
   ]
  },
  {
   "cell_type": "code",
   "execution_count": 11,
   "id": "e920322d-7ddb-477c-b815-3baebd979249",
   "metadata": {},
   "outputs": [
    {
     "data": {
      "text/plain": [
       "12"
      ]
     },
     "execution_count": 11,
     "metadata": {},
     "output_type": "execute_result"
    }
   ],
   "source": [
    "\n",
    "x.numel()"
   ]
  },
  {
   "cell_type": "markdown",
   "id": "bfa3a74b-a153-4f5f-b36e-5a56cc703132",
   "metadata": {},
   "source": [
    "* 想要改变一个张量的形状而不改变元素数量和元素值，可以调用reshape函数。\n",
    "* 例如，可以把张量x从形状为（12，）的行向量转化为形状为（3，4）的矩阵。\n",
    "* 这个新张量包含与转换前相同的值，注意，改变张量的形状，不会改变张量的大小"
   ]
  },
  {
   "cell_type": "code",
   "execution_count": 12,
   "id": "f698985d-39c2-4fe9-bd14-ec23b6850904",
   "metadata": {},
   "outputs": [
    {
     "data": {
      "text/plain": [
       "tensor([[ 0,  1,  2,  3],\n",
       "        [ 4,  5,  6,  7],\n",
       "        [ 8,  9, 10, 11]])"
      ]
     },
     "execution_count": 12,
     "metadata": {},
     "output_type": "execute_result"
    }
   ],
   "source": [
    "\n",
    "X = x.reshape(3,4)\n",
    "X"
   ]
  },
  {
   "cell_type": "markdown",
   "id": "3563692d-697f-4436-8cbb-1377ded6b10b",
   "metadata": {},
   "source": [
    "* 我们可以通过-1来自动计算出形状，如x.reshape(3,4)=x.reshape(-1,4)=x.reshape(3,-1)"
   ]
  },
  {
   "cell_type": "markdown",
   "id": "95d261a3-d4f8-4e42-9128-8cda2001ebd1",
   "metadata": {},
   "source": [
    "* 有时我们想使用全0，全1，其他常量或者从特定分布中随机采样的数字来初始化矩阵，我们可以创造一个形状为（2，3，4）的张量，其中所有元素都设为0"
   ]
  },
  {
   "cell_type": "code",
   "execution_count": 13,
   "id": "05cbe318-03b4-4b26-bc7e-84071787c5ab",
   "metadata": {},
   "outputs": [
    {
     "data": {
      "text/plain": [
       "tensor([[[0., 0., 0., 0.],\n",
       "         [0., 0., 0., 0.],\n",
       "         [0., 0., 0., 0.]],\n",
       "\n",
       "        [[0., 0., 0., 0.],\n",
       "         [0., 0., 0., 0.],\n",
       "         [0., 0., 0., 0.]]])"
      ]
     },
     "execution_count": 13,
     "metadata": {},
     "output_type": "execute_result"
    }
   ],
   "source": [
    "torch.zeros((2, 3, 4))"
   ]
  },
  {
   "cell_type": "markdown",
   "id": "13214784-7339-4f26-8710-b101929a475b",
   "metadata": {},
   "source": [
    "* 同样我们可以创造一个形状为（2，3，4）的张量，其中所有元素都设为1"
   ]
  },
  {
   "cell_type": "code",
   "execution_count": 14,
   "id": "a4117a64-c155-40a9-91b8-c0a8055ba408",
   "metadata": {},
   "outputs": [
    {
     "data": {
      "text/plain": [
       "tensor([[[1., 1., 1., 1.],\n",
       "         [1., 1., 1., 1.],\n",
       "         [1., 1., 1., 1.]],\n",
       "\n",
       "        [[1., 1., 1., 1.],\n",
       "         [1., 1., 1., 1.],\n",
       "         [1., 1., 1., 1.]]])"
      ]
     },
     "execution_count": 14,
     "metadata": {},
     "output_type": "execute_result"
    }
   ],
   "source": [
    "torch.ones(2, 3, 4)"
   ]
  }
 ],
 "metadata": {
  "kernelspec": {
   "display_name": "Python 3 (ipykernel)",
   "language": "python",
   "name": "python3"
  },
  "language_info": {
   "codemirror_mode": {
    "name": "ipython",
    "version": 3
   },
   "file_extension": ".py",
   "mimetype": "text/x-python",
   "name": "python",
   "nbconvert_exporter": "python",
   "pygments_lexer": "ipython3",
   "version": "3.9.6"
  }
 },
 "nbformat": 4,
 "nbformat_minor": 5
}
