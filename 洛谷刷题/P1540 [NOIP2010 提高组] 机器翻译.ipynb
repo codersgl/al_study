{
 "cells": [
  {
   "cell_type": "markdown",
   "id": "12488c4f-9419-4da5-8a83-d84342899b19",
   "metadata": {},
   "source": [
    "# [NOIP2010 提高组] 机器翻译\n",
    "\n",
    "## 题目背景\n",
    "\n",
    "NOIP2010 提高组 T1\n",
    "\n",
    "## 题目描述\n",
    "\n",
    "小晨的电脑上安装了一个机器翻译软件，他经常用这个软件来翻译英语文章。\n",
    "\n",
    "这个翻译软件的原理很简单，它只是从头到尾，依次将每个英文单词用对应的中文含义来替换。对于每个英文单词，软件会先在内存中查找这个单词的中文含义，如果内存中有，软件就会用它进行翻译；如果内存中没有，软件就会在外存中的词典内查找，查出单词的中文含义然后翻译，并将这个单词和译义放入内存，以备后续的查找和翻译。\n",
    "\n",
    "假设内存中有 $M$ 个单元，每单元能存放一个单词和译义。每当软件将一个新单词存入内存前，如果当前内存中已存入的单词数不超过 $M-1$，软件会将新单词存入一个未使用的内存单元；若内存中已存入 $M$ 个单词，软件会清空最早进入内存的那个单词，腾出单元来，存放新单词。\n",
    "\n",
    "假设一篇英语文章的长度为 $N$ 个单词。给定这篇待译文章，翻译软件需要去外存查找多少次词典？假设在翻译开始前，内存中没有任何单词。\n",
    "\n",
    "## 输入格式\n",
    "\n",
    "共 $2$ 行。每行中两个数之间用一个空格隔开。\n",
    "\n",
    "第一行为两个正整数 $M,N$，代表内存容量和文章的长度。\n",
    "\n",
    "第二行为 $N$ 个非负整数，按照文章的顺序，每个数（大小不超过 $1000$）代表一个英文单词。文章中两个单词是同一个单词，当且仅当它们对应的非负整数相同。\n",
    "\n",
    "## 输出格式\n",
    "\n",
    "一个整数，为软件需要查词典的次数。\n",
    "\n",
    "## 样例 #1\n",
    "\n",
    "### 样例输入 #1\n",
    "\n",
    "``\n",
    "3 7\n",
    "1 2 1 5 4 4 1\n",
    "``\n",
    "\n",
    "### 样例输出 #1\n",
    "\n",
    "``\n",
    "5\n",
    "``\n",
    "\n",
    "## 提示\n",
    "\n",
    "### 样例解释\n",
    "\n",
    "整个查字典过程如下：每行表示一个单词的翻译，冒号前为本次翻译后的内存状况：\n",
    "\n",
    "1. `1`：查找单词 1 并调入内存。\n",
    "2. `1 2`：查找单词 2 并调入内存。\n",
    "3. `1 2`：在内存中找到单词 1。\n",
    "4. `1 2 5`：查找单词 5 并调入内存。\n",
    "5. `2 5 4`：查找单词 4 并调入内存替代单词 1。\n",
    "6. `2 5 4`：在内存中找到单词 4。\n",
    "7. `5 4 1`：查找单词 1 并调入内存替代单词 2。\n",
    "\n",
    "共计查了 $5$ 次词典。\n",
    "\n",
    "### 数据范围\n",
    "\n",
    "- 对于 $10\\%$ 的数据有 $M=1$，$N \\leq 5$；\n",
    "- 对于 $100\\%$ 的数据有 $1 \\leq M \\leq 100$，$1 \\leq N \\leq 1000$。"
   ]
  },
  {
   "cell_type": "markdown",
   "id": "2917637e-5162-4b7e-95d1-3d2cbb21c881",
   "metadata": {},
   "source": [
    "## 分析问题\n",
    "&emsp;&emsp;显然由题意：**每当软件将一个新单词存入内存前，如果当前内存中已存入的单词数不超过 $M-1$，软件会将新单词存入一个未使用的内存单元；若内存中已存入 $M$ 个单词，软件会清空最早进入内存的那个单词，腾出单元来，存放新单词**。可知，此题我们需要借助**队列的先进先出**的特性来解题。"
   ]
  },
  {
   "cell_type": "code",
   "execution_count": 7,
   "id": "e5171a4e-f642-40e6-a515-430f226d7fe5",
   "metadata": {},
   "outputs": [
    {
     "name": "stdin",
     "output_type": "stream",
     "text": [
      " 3 7\n",
      " 1 2 1 5 4 4 1\n"
     ]
    },
    {
     "name": "stdout",
     "output_type": "stream",
     "text": [
      "5\n"
     ]
    }
   ],
   "source": [
    "# 定义一个循环队列\n",
    "class Lsqueue:\n",
    "    def __init__(self, max_size):  # 修改构造函数参数定义\n",
    "        self.elem = [None] * max_size  # 初始化队列空间\n",
    "        self.front = self.rear = 0  # 初始化队首和队尾指针\n",
    "        self.size = max_size  # 队列的最大容量\n",
    "\n",
    "    def __len__(self):  # 修改长度函数定义\n",
    "        # 因为是循环队列，所以可能存在 rear < front 的情况\n",
    "        return (self.rear - self.front + self.size) % self.size\n",
    "\n",
    "    def enqueue(self, e):  # 修改拼写错误\n",
    "        if (self.rear + 1) % self.size == self.front:  # 队列满的情况\n",
    "            self.dequeue()  # 如果队列满了，先出队一个元素\n",
    "        self.elem[self.rear] = e  # 在队尾添加元素\n",
    "        self.rear = (self.rear + 1) % self.size  # 队尾指针后移，循环使用\n",
    "\n",
    "    def dequeue(self):  # 修改拼写错误\n",
    "        if self.front == self.rear:  # 队列为空的情况\n",
    "            raise Exception('队列已空')  # 抛出异常\n",
    "        e = self.elem[self.front]  # 获取队首元素\n",
    "        self.front = (self.front + 1) % self.size  # 队首指针后移，循环使用\n",
    "        return e  # 返回队首元素\n",
    "\n",
    "\n",
    "# input\n",
    "m, n = map(int, input().split())\n",
    "words = list(map(int, input().split()))\n",
    "# built a null Lsqeue to store word\n",
    "sq = Lsqueue(m)\n",
    "count = 0\n",
    "\n",
    "# process\n",
    "if m <= 1:\n",
    "    # output\n",
    "    print(len(set(words)))\n",
    "else:\n",
    "    for word in words:\n",
    "        if word in sq.elem:\n",
    "            pass\n",
    "\n",
    "        else:\n",
    "            sq.enqueue(word)\n",
    "            count += 1\n",
    "\n",
    "    # output\n",
    "    print(count)"
   ]
  },
  {
   "cell_type": "markdown",
   "id": "302ea812-a4e4-4cbb-bfed-34a643f93b5f",
   "metadata": {},
   "source": [
    "**注意：当m=1时，队列就可能出现内溢的情况，此时对这种情况单独考虑即可**"
   ]
  }
 ],
 "metadata": {
  "kernelspec": {
   "display_name": "Python 3 (ipykernel)",
   "language": "python",
   "name": "python3"
  },
  "language_info": {
   "codemirror_mode": {
    "name": "ipython",
    "version": 3
   },
   "file_extension": ".py",
   "mimetype": "text/x-python",
   "name": "python",
   "nbconvert_exporter": "python",
   "pygments_lexer": "ipython3",
   "version": "3.9.6"
  }
 },
 "nbformat": 4,
 "nbformat_minor": 5
}
